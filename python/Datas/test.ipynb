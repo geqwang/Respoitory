{
 "cells": [
  {
   "cell_type": "code",
   "execution_count": null,
   "metadata": {},
   "outputs": [],
   "source": [
    "mystr = \"hello World\"\n",
    "\n",
    "# mystr.capitalize()\n",
    "# mystr.split(\" \")\n",
    "# \"+\".join(mystr)\n",
    "\n",
    "mystr.replace(\"o\", \"O\")\n"
   ]
  },
  {
   "cell_type": "code",
   "execution_count": null,
   "metadata": {},
   "outputs": [],
   "source": [
    "n1 = [8, 19, 148, 7]\n",
    "n2 = [9, 1]\n",
    "n3 = []\n",
    "\n",
    "for i, v in enumerate(n1):\n",
    "    for j, w in enumerate(n2):\n",
    "        n3.append(v * w)\n",
    "\n",
    "for i in enumerate(n3):\n",
    "    print(i, end=\" \")\n",
    "    \n",
    "\n",
    "print(n3)"
   ]
  },
  {
   "cell_type": "code",
   "execution_count": 32,
   "metadata": {},
   "outputs": [],
   "source": [
    "class Students:\n",
    "    \n",
    "    def __init__(self):\n",
    "        pass\n",
    "    "
   ]
  }
 ],
 "metadata": {
  "kernelspec": {
   "display_name": "Python 3.10.6 64-bit",
   "language": "python",
   "name": "python3"
  },
  "language_info": {
   "codemirror_mode": {
    "name": "ipython",
    "version": 3
   },
   "file_extension": ".py",
   "mimetype": "text/x-python",
   "name": "python",
   "nbconvert_exporter": "python",
   "pygments_lexer": "ipython3",
   "version": "3.10.6"
  },
  "orig_nbformat": 4,
  "vscode": {
   "interpreter": {
    "hash": "369f2c481f4da34e4445cda3fffd2e751bd1c4d706f27375911949ba6bb62e1c"
   }
  }
 },
 "nbformat": 4,
 "nbformat_minor": 2
}
