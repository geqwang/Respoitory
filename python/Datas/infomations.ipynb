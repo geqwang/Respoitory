{
 "cells": [
  {
   "cell_type": "code",
   "execution_count": null,
   "metadata": {},
   "outputs": [],
   "source": [
    "import pdfplumber\n",
    "import pandas as pd\n",
    "import os\n",
    "\n",
    "dir = r\"G:/Doc/sz/2022/高考/名单/\"\n",
    "os.chdir(dir)\n",
    "flst = []\n",
    "lst = []\n",
    "\n",
    "for file in os.listdir(dir):\n",
    "    if file.endswith('.pdf'):\n",
    "        flst.append(dir + file)\n",
    "\n",
    "print(flst)\n",
    "for file in flst:\n",
    "    with pdfplumber.open(file) as pdf:\n",
    "        for page in pdf.pages:\n",
    "            txt = page.extract_text()\n",
    "            # lst.append(txt)\n",
    "            # print(txt)\n",
    "\n",
    "# print(lst)\n",
    "# df = pd.DataFrame(lst)\n",
    "# df.to_csv(r\"G:\\Doc\\sz\\2022\\高考\\名单\\名单名单简答.csv\", encoding=\"gbk\")\n",
    "\n"
   ]
  },
  {
   "cell_type": "code",
   "execution_count": 8,
   "metadata": {},
   "outputs": [
    {
     "name": "stdout",
     "output_type": "stream",
     "text": [
      "1 3 5 7 9 a b c d e f g h "
     ]
    }
   ],
   "source": []
  }
 ],
 "metadata": {
  "kernelspec": {
   "display_name": "Python 3.10.6 64-bit",
   "language": "python",
   "name": "python3"
  },
  "language_info": {
   "codemirror_mode": {
    "name": "ipython",
    "version": 3
   },
   "file_extension": ".py",
   "mimetype": "text/x-python",
   "name": "python",
   "nbconvert_exporter": "python",
   "pygments_lexer": "ipython3",
   "version": "3.10.6"
  },
  "orig_nbformat": 4,
  "vscode": {
   "interpreter": {
    "hash": "369f2c481f4da34e4445cda3fffd2e751bd1c4d706f27375911949ba6bb62e1c"
   }
  }
 },
 "nbformat": 4,
 "nbformat_minor": 2
}
