{
 "cells": [
  {
   "cell_type": "code",
   "execution_count": 1,
   "metadata": {
    "notebookRunGroups": {
     "groupValue": "1"
    }
   },
   "outputs": [],
   "source": [
    "height = float(input(\"请输入您的身高（单位：米）\"))\n",
    "weight = float(input(\"请输入您的体重（单位：千克）\"))\n",
    "\n",
    "\n",
    "bmi = weight/(height*height)\n",
    "\n",
    "if bmi<18.5:\n",
    "    print(\"体重过轻！\")\n",
    "elif bmi >18.5 and bmi < 24.9:\n",
    "    print(\"正常范围，注意保持\")\n",
    "elif bmi >= 24.9 and bmi < 29.9:\n",
    "    print(\"体重超重了！！！\")\n",
    "else:\n",
    "    print(\"肥胖\")\n"
   ]
  },
  {
   "cell_type": "code",
   "execution_count": null,
   "metadata": {},
   "outputs": [],
   "source": [
    "import requests\n",
    "\n",
    "url = \"https://www.zhnxcw.com/html/417571/0.html\"\n",
    "mheaders = {\n",
    " 'User-Agent': 'Mozilla/5.0 (Macintosh; Intel Mac OS X 10_11_4) AppleWebKit/537.36 (KHTML, like Gecko) Chrome/52.0.2743.116 Safari/537.36'\n",
    "}\n",
    "\n",
    "r = requests.get(url, headers=mheaders)\n",
    "# r.apparent_encoding('ISO-8859-1')\n",
    "r.encoding = r.apparent_encoding\n",
    "lst = r.text\n",
    "\n",
    "\n"
   ]
  },
  {
   "cell_type": "code",
   "execution_count": 14,
   "metadata": {},
   "outputs": [
    {
     "name": "stdout",
     "output_type": "stream",
     "text": [
      "Hi, I'm a gray duck!\n"
     ]
    }
   ],
   "source": [
    "import random\n",
    "\n",
    "\n",
    "class duck():\n",
    "    def __init__(self, color):\n",
    "        self.color = color\n",
    "\n",
    "    @classmethod\n",
    "    def crduck(cls):\n",
    "        color = random.choice(['yellow', 'while', 'gray'])\n",
    "\n",
    "        return cls(color=color)\n",
    "\n",
    "    def quack(self):\n",
    "        print(f\"Hi, I'm a {self.color} duck!\")\n",
    "\n",
    "\n",
    "d = duck.crduck()\n",
    "d.quack()\n"
   ]
  },
  {
   "cell_type": "code",
   "execution_count": 1,
   "metadata": {},
   "outputs": [
    {
     "name": "stdout",
     "output_type": "stream",
     "text": [
      "Hello, world!\n"
     ]
    }
   ],
   "source": [
    "str = \"Hello, world!\"\n",
    "print(str)"
   ]
  }
 ],
 "metadata": {
  "kernelspec": {
   "display_name": "Python 3.10.6 64-bit",
   "language": "python",
   "name": "python3"
  },
  "language_info": {
   "codemirror_mode": {
    "name": "ipython",
    "version": 3
   },
   "file_extension": ".py",
   "mimetype": "text/x-python",
   "name": "python",
   "nbconvert_exporter": "python",
   "pygments_lexer": "ipython3",
   "version": "3.10.6"
  },
  "orig_nbformat": 4,
  "vscode": {
   "interpreter": {
    "hash": "369f2c481f4da34e4445cda3fffd2e751bd1c4d706f27375911949ba6bb62e1c"
   }
  }
 },
 "nbformat": 4,
 "nbformat_minor": 2
}
